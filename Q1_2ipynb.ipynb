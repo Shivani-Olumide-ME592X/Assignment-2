{
  "nbformat": 4,
  "nbformat_minor": 0,
  "metadata": {
    "colab": {
      "name": "Q1-2ipynb",
      "provenance": []
    },
    "kernelspec": {
      "name": "python3",
      "display_name": "Python 3"
    }
  },
  "cells": [
    {
      "cell_type": "code",
      "metadata": {
        "colab": {
          "base_uri": "https://localhost:8080/"
        },
        "id": "HfrRmRcjWuhq",
        "outputId": "9bdbcf60-88e7-4727-8976-1e9730202b13"
      },
      "source": [
        "# -*- coding: utf-8 -*-\r\n",
        "\r\n",
        "import os\r\n",
        "import numpy as np \r\n",
        "from google.colab import drive\r\n",
        "import cv2\r\n",
        "import matplotlib.pyplot as plt\r\n",
        "from glob import glob\r\n",
        "from google.colab import drive\r\n",
        "drive.mount('/content/drive')\r\n",
        "os.chdir('/content/')\r\n"
      ],
      "execution_count": 13,
      "outputs": [
        {
          "output_type": "stream",
          "text": [
            "Drive already mounted at /content/drive; to attempt to forcibly remount, call drive.mount(\"/content/drive\", force_remount=True).\n"
          ],
          "name": "stdout"
        }
      ]
    },
    {
      "cell_type": "code",
      "metadata": {
        "id": "Kbhzr2jpXoQ5"
      },
      "source": [
        "import cv2\r\n",
        "import matplotlib.pyplot as plt\r\n",
        "import random\r\n",
        "import os\r\n",
        "import numpy as np\r\n",
        "width=50\r\n",
        "height=50\r\n",
        "#Reading the input images\r\n",
        "files=os.listdir('/content/leaves/')\r\n",
        "def p_check(mask,start_x,start_y):\r\n",
        "    #Selecting patches only from the leaf is present (i.e. not the background)\r\n",
        "    ROI=mask[start_x:start_x+width,start_y:start_y+height]\r\n",
        "    #Calculating percentage of whiteness\r\n",
        "    if(np.sum(ROI==255)/(ROI.shape[0]*ROI.shape[1])>0.7):\r\n",
        "        return True\r\n",
        "    else:\r\n",
        "        return False\r\n",
        "for i in range(0,len(files)):\r\n",
        "    image=cv2.imread('/content/leaves/'+files[i])\r\n",
        "    hsv=cv2.cvtColor(image,cv2.COLOR_BGR2HSV)[:,:,2]\r\n",
        "    ret,image_result = cv2.threshold(hsv,0,255,cv2.THRESH_BINARY+cv2.THRESH_OTSU)\r\n",
        "    kernel = cv2.getStructuringElement(cv2.MORPH_ELLIPSE, (20,20))\r\n",
        "    image_result= cv2.morphologyEx(image_result, cv2.MORPH_DILATE, kernel, )\r\n",
        "\r\n",
        "    contours = cv2.findContours(image_result, cv2.RETR_EXTERNAL, cv2.CHAIN_APPROX_NONE)\r\n",
        "    contours = contours[0] if len(contours) == 2 else contours[1]\r\n",
        "    c = max(contours, key = cv2.contourArea)\r\n",
        "    start_x=random.randint(0,image.shape[0]-50)\r\n",
        "    start_y=random.randint(0,image.shape[1]-50)\r\n",
        "    while(not p_check(image_result,start_x,start_y)):\r\n",
        "        start_x=random.randint(0,image.shape[0]-50)\r\n",
        "        start_y=random.randint(0,image.shape[1]-50)\r\n",
        "        \r\n",
        "    else:\r\n",
        "        ROI=image[start_x:start_x+width,start_y:start_y+height]\r\n",
        "     # Writing the patches obtained to a file   \r\n",
        "    cv2.imwrite('content/patches/'+str(i+1)+'.png',ROI)\r\n",
        "    "
      ],
      "execution_count": 26,
      "outputs": []
    },
    {
      "cell_type": "code",
      "metadata": {
        "colab": {
          "base_uri": "https://localhost:8080/",
          "height": 285
        },
        "id": "4qO_0U5haV15",
        "outputId": "67f53fb6-7804-4b0c-9c9f-bdbd9b468549"
      },
      "source": [
        "plt.imshow(ROI)"
      ],
      "execution_count": 30,
      "outputs": [
        {
          "output_type": "execute_result",
          "data": {
            "text/plain": [
              "<matplotlib.image.AxesImage at 0x7ff7b6bdc1d0>"
            ]
          },
          "metadata": {
            "tags": []
          },
          "execution_count": 30
        },
        {
          "output_type": "display_data",
          "data": {
            "image/png": "[encoded data removed]",
            "text/plain": [
              "<Figure size 432x288 with 1 Axes>"
            ]
          },
          "metadata": {
            "tags": [],
            "needs_background": "light"
          }
        }
      ]
    },
    {
      "cell_type": "code",
      "metadata": {
        "id": "KhjnO0TFakT-"
      },
      "source": [
        ""
      ],
      "execution_count": null,
      "outputs": []
    }
  ]
}