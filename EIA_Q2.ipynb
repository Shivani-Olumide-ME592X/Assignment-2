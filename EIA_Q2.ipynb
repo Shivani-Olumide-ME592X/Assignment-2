{
 "cells": [
  {
   "cell_type": "code",
   "execution_count": 1,
   "metadata": {},
   "outputs": [
    {
     "ename": "ModuleNotFoundError",
     "evalue": "No module named 'mask_grid_lines'",
     "output_type": "error",
     "traceback": [
      "\u001b[1;31m---------------------------------------------------------------------------\u001b[0m",
      "\u001b[1;31mModuleNotFoundError\u001b[0m                       Traceback (most recent call last)",
      "\u001b[1;32m<ipython-input-1-8f1375874064>\u001b[0m in \u001b[0;36m<module>\u001b[1;34m\u001b[0m\n\u001b[0;32m      1\u001b[0m \u001b[1;32mimport\u001b[0m \u001b[0mcv2\u001b[0m\u001b[1;33m\u001b[0m\u001b[1;33m\u001b[0m\u001b[0m\n\u001b[0;32m      2\u001b[0m \u001b[1;32mimport\u001b[0m \u001b[0mnumpy\u001b[0m \u001b[1;32mas\u001b[0m \u001b[0mnp\u001b[0m\u001b[1;33m\u001b[0m\u001b[1;33m\u001b[0m\u001b[0m\n\u001b[1;32m----> 3\u001b[1;33m \u001b[1;32mfrom\u001b[0m \u001b[0mmask_grid_lines\u001b[0m \u001b[1;32mimport\u001b[0m \u001b[0mmask_grid_lines\u001b[0m\u001b[1;33m\u001b[0m\u001b[1;33m\u001b[0m\u001b[0m\n\u001b[0m\u001b[0;32m      4\u001b[0m \u001b[1;32mfrom\u001b[0m \u001b[0mslic\u001b[0m \u001b[1;32mimport\u001b[0m \u001b[0mslic_rag\u001b[0m\u001b[1;33m\u001b[0m\u001b[1;33m\u001b[0m\u001b[0m\n\u001b[0;32m      5\u001b[0m \u001b[1;32mfrom\u001b[0m \u001b[0mextraction\u001b[0m \u001b[1;32mimport\u001b[0m \u001b[0mextraction\u001b[0m\u001b[1;33m\u001b[0m\u001b[1;33m\u001b[0m\u001b[0m\n",
      "\u001b[1;31mModuleNotFoundError\u001b[0m: No module named 'mask_grid_lines'"
     ]
    }
   ],
   "source": [
    "import cv2\n",
    "import numpy as np\n",
    "from mask_grid_lines import mask_grid_lines\n",
    "from slic import slic_rag\n",
    "from extraction import extraction\n",
    "import matplotlib.pyplot as plt\n"
   ]
  },
  {
   "cell_type": "code",
   "execution_count": null,
   "metadata": {},
   "outputs": [],
   "source": [
    "files=['1.jpg','2.jpg']\n",
    "#Reading image files\n",
    "for d in files:\n",
    "    image_original=cv2.imread('https://github.com/Shivani-Olumide-ME592X/eia/'+d)\n",
    "    # Converting RGB image to HSV color space\n",
    "    image_hsv_original=cv2.cvtColor(image_original,cv2.COLOR_BGR2HSV)\n",
    "    # Blurring image for better edge detection\n",
    "    blur=cv2.medianBlur(image_hsv_original[:,:,1],9)\n",
    "    # Binary thresholding the single channel image\n",
    "    ret,image_result_original = cv2.threshold(blur,0,255,cv2.THRESH_BINARY+cv2.THRESH_OTSU)\n",
    "    # Defining the size and type of the structural element\n",
    "    kernel = cv2.getStructuringElement(cv2.MORPH_RECT, (4,4))\n",
    "    # Performing morphological opening to remove noise\n",
    "    image_result_original = cv2.morphologyEx(image_result_original, cv2.MORPH_OPEN, kernel, )\n",
    "    # Finding contours in the binary image\n",
    "    contours= cv2.findContours(image_result_original, cv2.RETR_LIST, cv2.CHAIN_APPROX_SIMPLE)\n",
    "    contours = contours[0] if len(contours) == 2 else contours[1]\n",
    "    \n",
    "    image_copy_original=image_original.copy()\n",
    "    ROI=[]\n",
    "    k=0\n",
    "    final_image=np.zeros_like(image_original)\n",
    "    #Traversing through the contours\n",
    "    for c in contours:\n",
    "        #Filtering contours by area \n",
    "        if(cv2.contourArea(c)>10000):\n",
    "            #Finding 4-sided plates in the picture to process each separately\n",
    "            approx = cv2.approxPolyDP(c,0.09 * cv2.arcLength(c, True), True) \n",
    "            if(len(approx)==4):  \n",
    "                # For each square part of the image, we perform the following\n",
    "                x,y,w,h = cv2.boundingRect(c)\n",
    "                cv2.rectangle(image_copy_original, (x,y),(x+w,y+h), (255,0,0),10) \n",
    "                #Extract the square region from the full image\n",
    "                ROI=image_original[y:y+h,x:x+w]\n",
    "                coordinates=[(y,x),(y+h,x+w)]\n",
    "                #Detecting the grid lines in the image and assign it the frequent pixel (background) in the picture\n",
    "                masked_image=np.array(mask_grid_lines(image_original,coordinates))\n",
    "                #Using SLIC algorithm and performing graph cuts on the color map\n",
    "                segment_image=slic_rag(masked_image[y:y+h,x:x+w])\n",
    "                # Extract the features and perform a couple of morphological operations for a finer result\n",
    "                extract_image=extraction(segment_image,image_original[y:y+h,x:x+w])\n",
    "                #We get the final image\n",
    "                final_image[y:y+h,x:x+w]=extract_image\n",
    "    #Displaying the result\n",
    "    plt.imshow(final_image)\n",
    "            "
   ]
  }
 ],
 "metadata": {
  "kernelspec": {
   "display_name": "Python 3",
   "language": "python",
   "name": "python3"
  },
  "language_info": {
   "codemirror_mode": {
    "name": "ipython",
    "version": 3
   },
   "file_extension": ".py",
   "mimetype": "text/x-python",
   "name": "python",
   "nbconvert_exporter": "python",
   "pygments_lexer": "ipython3",
   "version": "3.8.5"
  }
 },
 "nbformat": 4,
 "nbformat_minor": 4
}
